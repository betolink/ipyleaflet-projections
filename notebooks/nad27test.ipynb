{
 "cells": [
  {
   "cell_type": "markdown",
   "id": "4e1ddf98-3a42-4bf1-a867-5a5cfffd43d1",
   "metadata": {},
   "source": [
    "# ipyleaflet - NAD27\n",
    "\n",
    "Testing the NAD27 datum with ipyleaflet"
   ]
  },
  {
   "cell_type": "code",
   "execution_count": 1,
   "id": "a2e66ee8-3a66-4a3f-ba08-117f05bc4d8d",
   "metadata": {},
   "outputs": [],
   "source": [
    "from ipyleaflet import Map, basemaps, basemap_to_tiles, projections, GeoData, DrawControl, LayersControl, FullScreenControl, WMSLayer\n",
    "import geopandas as gpd\n",
    "from ipywidgets import Label, HBox, VBox, Layout\n",
    "from pyproj import Transformer\n",
    "import matplotlib.pyplot as plt\n",
    "from sidecar import Sidecar"
   ]
  },
  {
   "cell_type": "markdown",
   "id": "a72c1324-574e-456a-ac9e-414972afedc4",
   "metadata": {},
   "source": [
    "The following cell is to avoid putting the data we need in the repo. The idea is that we have multiple datasets and we only downlod what we need for each notebook.\n"
   ]
  },
  {
   "cell_type": "code",
   "execution_count": 2,
   "id": "bd13dc2f-02f3-4b9b-94c3-449c3ff80c4d",
   "metadata": {},
   "outputs": [
    {
     "data": {
      "application/vnd.jupyter.widget-view+json": {
       "model_id": "a724f348101a4381b4badc6ec5bf290e",
       "version_major": 2,
       "version_minor": 0
      },
      "text/plain": [
       "SUBMITTING | :   0%|          | 0/1 [00:00<?, ?it/s]"
      ]
     },
     "metadata": {},
     "output_type": "display_data"
    },
    {
     "data": {
      "application/vnd.jupyter.widget-view+json": {
       "model_id": "9f2bf52fac3940c59beb45c06496d6c0",
       "version_major": 2,
       "version_minor": 0
      },
      "text/plain": [
       "PROCESSING | :   0%|          | 0/1 [00:00<?, ?it/s]"
      ]
     },
     "metadata": {},
     "output_type": "display_data"
    },
    {
     "name": "stdout",
     "output_type": "stream",
     "text": [
      "processing: partial-texas-counties\n"
     ]
    },
    {
     "data": {
      "application/vnd.jupyter.widget-view+json": {
       "model_id": "38ad5771c14c40ffbd061783b931a5f3",
       "version_major": 2,
       "version_minor": 0
      },
      "text/plain": [
       "COLLECTING | :   0%|          | 0/1 [00:00<?, ?it/s]"
      ]
     },
     "metadata": {},
     "output_type": "display_data"
    }
   ],
   "source": [
    "from catalog import import_data\n",
    "import_data()"
   ]
  },
  {
   "cell_type": "code",
   "execution_count": 3,
   "id": "13f53285-6079-4e58-85b5-8204d4b93bfb",
   "metadata": {},
   "outputs": [],
   "source": [
    "#EPSG 32040 NAD27 Stateplane TX South Central\n",
    "EPSG_32040 = {\n",
    "    'name': 'EPSG:32040',\n",
    "    'custom': True,\n",
    "    'proj4def': '+proj=lcc +lat_1=28.38333333333333 +lat_2=30.28333333333333 +lat_0=27.83333333333333 +lon_0=-99 +x_0=609601.2192024384 +y_0=0 +datum=NAD27 +units=us-ft +no_defs',\n",
    "    'origin': [1934715.99110518, 505965.75122003],\n",
    "    'bounds': [\n",
    "        [60341.26161686, 30289.16709928],\n",
    "        [3757196.70267378, 1073405.75104801]\n",
    "    ],\n",
    "    'resolutions': [\n",
    "        8192.0,\n",
    "        4096.0,\n",
    "        2048.0,\n",
    "        1024.0,\n",
    "        512.0\n",
    "    ]\n",
    "}\n",
    "# So you we what the lat lon would be for regular WGS84 datum\n",
    "transformer = Transformer.from_crs(4267, 4326)"
   ]
  },
  {
   "cell_type": "code",
   "execution_count": 4,
   "id": "78574fea-b0de-4fbd-88c8-4dc1654b8a12",
   "metadata": {},
   "outputs": [],
   "source": [
    "# This is to see the map on the side panel\n",
    "sc = Sidecar(title='ipyleaflet map')\n",
    "coord_nad27_label = Label()\n",
    "coord_wgs84_label =  Label()\n",
    "feature_label = Label()\n",
    "\n",
    "def handle_interaction(**kwargs):\n",
    "    if kwargs.get('type') == 'mousemove':\n",
    "        native_coordinates = kwargs.get('coordinates')\n",
    "        w84_coordinates = transformer.transform(native_coordinates[0], native_coordinates[1])\n",
    "        coord_nad27_label.value = f' NAD27 coordinates: {str(native_coordinates)}'\n",
    "        coord_wgs84_label.value = f' WGS84 coordinates: {str(list(w84_coordinates))}'\n",
    "\n",
    "m = Map(center=(32, -104),\n",
    "        zoom=3,\n",
    "        layers=(),\n",
    "        scroll_wheel_zoom=True,\n",
    "        crs=EPSG_32040)\n",
    "\n",
    "m.on_interaction(handle_interaction)\n",
    "m.add_control(LayersControl(position='topright'))\n",
    "m.add_control(FullScreenControl())\n",
    "\n",
    "with sc:\n",
    "    display(VBox([m, coord_nad27_label, coord_wgs84_label, feature_label], layout=Layout(\n",
    "    display='flex',\n",
    "    flex_flow='column',\n",
    "    border='solid 2px',\n",
    "    align_items='stretch',\n",
    "    height='100%'\n",
    ")))"
   ]
  },
  {
   "cell_type": "code",
   "execution_count": 5,
   "id": "ca4b40a9-982e-4f9b-8993-202ee02acca8",
   "metadata": {},
   "outputs": [
    {
     "data": {
      "text/html": [
       "<div>\n",
       "<style scoped>\n",
       "    .dataframe tbody tr th:only-of-type {\n",
       "        vertical-align: middle;\n",
       "    }\n",
       "\n",
       "    .dataframe tbody tr th {\n",
       "        vertical-align: top;\n",
       "    }\n",
       "\n",
       "    .dataframe thead th {\n",
       "        text-align: right;\n",
       "    }\n",
       "</style>\n",
       "<table border=\"1\" class=\"dataframe\">\n",
       "  <thead>\n",
       "    <tr style=\"text-align: right;\">\n",
       "      <th></th>\n",
       "      <th>TYPE</th>\n",
       "      <th>STATE</th>\n",
       "      <th>COUNTY</th>\n",
       "      <th>SNAME</th>\n",
       "      <th>CNAME</th>\n",
       "      <th>SHAPE_AREA</th>\n",
       "      <th>SHAPE_LEN</th>\n",
       "      <th>geometry</th>\n",
       "    </tr>\n",
       "  </thead>\n",
       "  <tbody>\n",
       "    <tr>\n",
       "      <th>0</th>\n",
       "      <td>2.0</td>\n",
       "      <td>30</td>\n",
       "      <td>5</td>\n",
       "      <td>NM</td>\n",
       "      <td>CHAVES</td>\n",
       "      <td>1.524509</td>\n",
       "      <td>7.008728</td>\n",
       "      <td>POLYGON ((-103.94562 34.08263, -103.92830 34.0...</td>\n",
       "    </tr>\n",
       "    <tr>\n",
       "      <th>1</th>\n",
       "      <td>2.0</td>\n",
       "      <td>30</td>\n",
       "      <td>25</td>\n",
       "      <td>NM</td>\n",
       "      <td>LEA</td>\n",
       "      <td>1.095513</td>\n",
       "      <td>4.650699</td>\n",
       "      <td>POLYGON ((-103.25276 33.57043, -103.23540 33.5...</td>\n",
       "    </tr>\n",
       "    <tr>\n",
       "      <th>2</th>\n",
       "      <td>2.0</td>\n",
       "      <td>30</td>\n",
       "      <td>57</td>\n",
       "      <td>NM</td>\n",
       "      <td>TORRANCE</td>\n",
       "      <td>0.851955</td>\n",
       "      <td>4.110356</td>\n",
       "      <td>POLYGON ((-105.92329 34.25978, -105.92662 34.2...</td>\n",
       "    </tr>\n",
       "    <tr>\n",
       "      <th>3</th>\n",
       "      <td>2.0</td>\n",
       "      <td>30</td>\n",
       "      <td>9</td>\n",
       "      <td>NM</td>\n",
       "      <td>CURRY</td>\n",
       "      <td>0.358178</td>\n",
       "      <td>2.693328</td>\n",
       "      <td>POLYGON ((-103.04341 34.31678, -103.04334 34.3...</td>\n",
       "    </tr>\n",
       "    <tr>\n",
       "      <th>4</th>\n",
       "      <td>2.0</td>\n",
       "      <td>30</td>\n",
       "      <td>11</td>\n",
       "      <td>NM</td>\n",
       "      <td>DE BACA</td>\n",
       "      <td>0.592203</td>\n",
       "      <td>3.453959</td>\n",
       "      <td>POLYGON ((-103.94562 34.08263, -103.96314 34.0...</td>\n",
       "    </tr>\n",
       "  </tbody>\n",
       "</table>\n",
       "</div>"
      ],
      "text/plain": [
       "   TYPE  STATE  COUNTY SNAME     CNAME  SHAPE_AREA  SHAPE_LEN  \\\n",
       "0   2.0     30       5    NM    CHAVES    1.524509   7.008728   \n",
       "1   2.0     30      25    NM       LEA    1.095513   4.650699   \n",
       "2   2.0     30      57    NM  TORRANCE    0.851955   4.110356   \n",
       "3   2.0     30       9    NM     CURRY    0.358178   2.693328   \n",
       "4   2.0     30      11    NM   DE BACA    0.592203   3.453959   \n",
       "\n",
       "                                            geometry  \n",
       "0  POLYGON ((-103.94562 34.08263, -103.92830 34.0...  \n",
       "1  POLYGON ((-103.25276 33.57043, -103.23540 33.5...  \n",
       "2  POLYGON ((-105.92329 34.25978, -105.92662 34.2...  \n",
       "3  POLYGON ((-103.04341 34.31678, -103.04334 34.3...  \n",
       "4  POLYGON ((-103.94562 34.08263, -103.96314 34.0...  "
      ]
     },
     "execution_count": 5,
     "metadata": {},
     "output_type": "execute_result"
    }
   ],
   "source": [
    "#COUNTIES_PERMIAN_AREA CRS: NAD27\n",
    "selDf = gpd.read_file('data/texas-counties/COUNTIES_PERMIAN_AREA.shp')\n",
    "selDf.head()"
   ]
  },
  {
   "cell_type": "code",
   "execution_count": 6,
   "id": "24537cdd-c107-4d56-ba13-6a317ff6eddf",
   "metadata": {},
   "outputs": [
    {
     "data": {
      "text/plain": [
       "<Geographic 2D CRS: EPSG:4267>\n",
       "Name: NAD27\n",
       "Axis Info [ellipsoidal]:\n",
       "- Lat[north]: Geodetic latitude (degree)\n",
       "- Lon[east]: Geodetic longitude (degree)\n",
       "Area of Use:\n",
       "- name: North and central America: Antigua and Barbuda - onshore. Bahamas - onshore plus offshore over internal continental shelf only. Belize - onshore. British Virgin Islands - onshore. Canada onshore - Alberta, British Columbia, Manitoba, New Brunswick, Newfoundland and Labrador, Northwest Territories, Nova Scotia, Nunavut, Ontario, Prince Edward Island, Quebec, Saskatchewan and Yukon - plus offshore east coast. Cuba - onshore and offshore. El Salvador - onshore. Guatemala - onshore. Honduras - onshore. Panama - onshore. Puerto Rico - onshore. Mexico - onshore plus offshore east coast. Nicaragua - onshore. United States (USA) onshore and offshore - Alabama, Alaska, Arizona, Arkansas, California, Colorado, Connecticut, Delaware, Florida, Georgia, Idaho, Illinois, Indiana, Iowa, Kansas, Kentucky, Louisiana, Maine, Maryland, Massachusetts, Michigan, Minnesota, Mississippi, Missouri, Montana, Nebraska, Nevada, New Hampshire, New Jersey, New Mexico, New York, North Carolina, North Dakota, Ohio, Oklahoma, Oregon, Pennsylvania, Rhode Island, South Carolina, South Dakota, Tennessee, Texas, Utah, Vermont, Virginia, Washington, West Virginia, Wisconsin and Wyoming - plus offshore . US Virgin Islands - onshore.\n",
       "- bounds: (167.65, 7.15, -47.74, 83.17)\n",
       "Datum: North American Datum 1927\n",
       "- Ellipsoid: Clarke 1866\n",
       "- Prime Meridian: Greenwich"
      ]
     },
     "execution_count": 6,
     "metadata": {},
     "output_type": "execute_result"
    }
   ],
   "source": [
    "selDf.crs"
   ]
  },
  {
   "cell_type": "code",
   "execution_count": 7,
   "id": "ff8cf827-6771-42c7-99a6-550b6dcfe092",
   "metadata": {},
   "outputs": [
    {
     "data": {
      "text/html": [
       "<div>\n",
       "<style scoped>\n",
       "    .dataframe tbody tr th:only-of-type {\n",
       "        vertical-align: middle;\n",
       "    }\n",
       "\n",
       "    .dataframe tbody tr th {\n",
       "        vertical-align: top;\n",
       "    }\n",
       "\n",
       "    .dataframe thead th {\n",
       "        text-align: right;\n",
       "    }\n",
       "</style>\n",
       "<table border=\"1\" class=\"dataframe\">\n",
       "  <thead>\n",
       "    <tr style=\"text-align: right;\">\n",
       "      <th></th>\n",
       "      <th>TYPE</th>\n",
       "      <th>STATE</th>\n",
       "      <th>COUNTY</th>\n",
       "      <th>SNAME</th>\n",
       "      <th>CNAME</th>\n",
       "      <th>SHAPE_AREA</th>\n",
       "      <th>SHAPE_LEN</th>\n",
       "      <th>geometry</th>\n",
       "    </tr>\n",
       "  </thead>\n",
       "  <tbody>\n",
       "    <tr>\n",
       "      <th>0</th>\n",
       "      <td>2.0</td>\n",
       "      <td>30</td>\n",
       "      <td>5</td>\n",
       "      <td>NM</td>\n",
       "      <td>CHAVES</td>\n",
       "      <td>1.524509</td>\n",
       "      <td>7.008728</td>\n",
       "      <td>POLYGON ((497845.767 2306573.547, 503097.392 2...</td>\n",
       "    </tr>\n",
       "    <tr>\n",
       "      <th>1</th>\n",
       "      <td>2.0</td>\n",
       "      <td>30</td>\n",
       "      <td>25</td>\n",
       "      <td>NM</td>\n",
       "      <td>LEA</td>\n",
       "      <td>1.095513</td>\n",
       "      <td>4.650699</td>\n",
       "      <td>POLYGON ((701393.313 2111480.948, 706691.873 2...</td>\n",
       "    </tr>\n",
       "    <tr>\n",
       "      <th>2</th>\n",
       "      <td>2.0</td>\n",
       "      <td>30</td>\n",
       "      <td>57</td>\n",
       "      <td>NM</td>\n",
       "      <td>TORRANCE</td>\n",
       "      <td>0.851955</td>\n",
       "      <td>4.110356</td>\n",
       "      <td>POLYGON ((-98413.409 2401630.652, -99420.313 2...</td>\n",
       "    </tr>\n",
       "    <tr>\n",
       "      <th>3</th>\n",
       "      <td>2.0</td>\n",
       "      <td>30</td>\n",
       "      <td>9</td>\n",
       "      <td>NM</td>\n",
       "      <td>CURRY</td>\n",
       "      <td>0.358178</td>\n",
       "      <td>2.693328</td>\n",
       "      <td>POLYGON ((774711.951 2381504.453, 774554.350 2...</td>\n",
       "    </tr>\n",
       "    <tr>\n",
       "      <th>4</th>\n",
       "      <td>2.0</td>\n",
       "      <td>30</td>\n",
       "      <td>11</td>\n",
       "      <td>NM</td>\n",
       "      <td>DE BACA</td>\n",
       "      <td>0.592203</td>\n",
       "      <td>3.453959</td>\n",
       "      <td>POLYGON ((497845.767 2306573.547, 492528.687 2...</td>\n",
       "    </tr>\n",
       "  </tbody>\n",
       "</table>\n",
       "</div>"
      ],
      "text/plain": [
       "   TYPE  STATE  COUNTY SNAME     CNAME  SHAPE_AREA  SHAPE_LEN  \\\n",
       "0   2.0     30       5    NM    CHAVES    1.524509   7.008728   \n",
       "1   2.0     30      25    NM       LEA    1.095513   4.650699   \n",
       "2   2.0     30      57    NM  TORRANCE    0.851955   4.110356   \n",
       "3   2.0     30       9    NM     CURRY    0.358178   2.693328   \n",
       "4   2.0     30      11    NM   DE BACA    0.592203   3.453959   \n",
       "\n",
       "                                            geometry  \n",
       "0  POLYGON ((497845.767 2306573.547, 503097.392 2...  \n",
       "1  POLYGON ((701393.313 2111480.948, 706691.873 2...  \n",
       "2  POLYGON ((-98413.409 2401630.652, -99420.313 2...  \n",
       "3  POLYGON ((774711.951 2381504.453, 774554.350 2...  \n",
       "4  POLYGON ((497845.767 2306573.547, 492528.687 2...  "
      ]
     },
     "execution_count": 7,
     "metadata": {},
     "output_type": "execute_result"
    }
   ],
   "source": [
    "#Convert to NAD27 Stateplane TX South Central\n",
    "geoDf = selDf.to_crs(epsg=32040)\n",
    "geoDf.head()"
   ]
  },
  {
   "cell_type": "code",
   "execution_count": 8,
   "id": "a31b20cb-ce23-4f0d-9828-f8a99e3b2fa8",
   "metadata": {},
   "outputs": [
    {
     "data": {
      "text/plain": [
       "<Projected CRS: EPSG:32040>\n",
       "Name: NAD27 / Texas South Central\n",
       "Axis Info [cartesian]:\n",
       "- X[east]: Easting (US survey foot)\n",
       "- Y[north]: Northing (US survey foot)\n",
       "Area of Use:\n",
       "- name: United States (USA) - Texas - counties of Aransas; Atascosa; Austin; Bandera; Bee; Bexar; Brazoria; Brewster; Caldwell; Calhoun; Chambers; Colorado; Comal; De Witt; Dimmit; Edwards; Fayette; Fort Bend; Frio; Galveston; Goliad; Gonzales; Guadalupe; Harris; Hays; Jackson; Jefferson; Karnes; Kendall; Kerr; Kinney; La Salle; Lavaca; Live Oak; Matagorda; Maverick; McMullen; Medina; Presidio; Real; Refugio; Terrell; Uvalde; Val Verde; Victoria; Waller; Wharton; Wilson; Zavala. Gulf of Mexico outer continental shelf (GoM OCS) protraction areas: Matagorda Island; Brazos; Galveston; High Island, Sabine Pass (TX).\n",
       "- bounds: (-105.0, 27.78, -93.41, 30.67)\n",
       "Coordinate Operation:\n",
       "- name: Texas CS27 South Central zone\n",
       "- method: Lambert Conic Conformal (2SP)\n",
       "Datum: North American Datum 1927\n",
       "- Ellipsoid: Clarke 1866\n",
       "- Prime Meridian: Greenwich"
      ]
     },
     "execution_count": 8,
     "metadata": {},
     "output_type": "execute_result"
    }
   ],
   "source": [
    "geoDf.crs"
   ]
  },
  {
   "cell_type": "code",
   "execution_count": 9,
   "id": "d3405120-e44c-44a4-b45e-bda4dd3bebad",
   "metadata": {},
   "outputs": [
    {
     "data": {
      "image/png": "[encoded data removed]",
      "text/plain": [
       "<Figure size 720x360 with 2 Axes>"
      ]
     },
     "metadata": {
      "needs_background": "light"
     },
     "output_type": "display_data"
    }
   ],
   "source": [
    "fig, axs = plt.subplots(1, 2, figsize=(10, 5))\n",
    "\n",
    "selDf.plot(ax=axs[0], legend=True)\n",
    "axs[0].set_title('EPSG:4267')\n",
    "geoDf.plot(ax=axs[1], legend=True)\n",
    "axs[1].set_title('EPSG:32040')\n",
    "plt.show()"
   ]
  },
  {
   "cell_type": "code",
   "execution_count": 10,
   "id": "c256cfd5-caad-4c42-8434-5957d3c310b8",
   "metadata": {},
   "outputs": [],
   "source": [
    "def handle_feature_click(feature, **kwargs):\n",
    "    feature_label.value = str(feature['properties']['CNAME'])\n",
    "\n",
    "# You don't need to use the reprojected dataframe. Leaflet uses geodetic lat lons and reprojects vector\n",
    "geoData = GeoData(geo_dataframe=selDf, name='Counties')\n",
    "geoData.on_click(handle_feature_click)\n",
    "m.add_layer(geoData)"
   ]
  },
  {
   "cell_type": "markdown",
   "id": "6dc18774-9449-4f2d-aaff-ae5f39a674f7",
   "metadata": {},
   "source": [
    "Because leaflet was already initialized as 32040 you don't need to reproject your dataframe. It knows how to project it and get you back the proper coordinate using NAD27. There are caveats with different datums, especially if you want to do other operations with \"regular\" data based on WGS84.\n",
    "\n",
    "The next cell uses a OpenStreet map layer as base layer but their WMS doesn't support 32040 so you'll see the inconsistencies.\n",
    "I couldn't find a good WMS service that supported state plane projections for base layers."
   ]
  },
  {
   "cell_type": "code",
   "execution_count": 11,
   "id": "ee3b8152-ed26-4550-b5b5-55d9599b70ac",
   "metadata": {},
   "outputs": [],
   "source": [
    "wms = WMSLayer(url='https://ows.terrestris.de/osm/service',\n",
    "               name='Unprojected base layer',\n",
    "               layers='OSM-Overlay-WMS',\n",
    "               min_zoom=1,\n",
    "               tile_size=256)\n",
    "m.add_layer(wms)"
   ]
  }
 ],
 "metadata": {
  "kernelspec": {
   "display_name": "Python 3 (ipykernel)",
   "language": "python",
   "name": "python3"
  },
  "language_info": {
   "codemirror_mode": {
    "name": "ipython",
    "version": 3
   },
   "file_extension": ".py",
   "mimetype": "text/x-python",
   "name": "python",
   "nbconvert_exporter": "python",
   "pygments_lexer": "ipython3",
   "version": "3.8.11"
  }
 },
 "nbformat": 4,
 "nbformat_minor": 5
}
